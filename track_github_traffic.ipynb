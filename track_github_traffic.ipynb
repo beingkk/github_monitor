{
 "cells": [
  {
   "cell_type": "markdown",
   "metadata": {},
   "source": [
    "# Prototype code for calling Github API to check repo traffic"
   ]
  },
  {
   "cell_type": "code",
   "execution_count": 6,
   "metadata": {},
   "outputs": [],
   "source": [
    "import pandas\n",
    "import numpy\n",
    "import requests\n",
    "import json\n",
    "import datetime\n",
    "import time\n",
    "import os, sys\n",
    "import yaml\n",
    "\n",
    "def jprint(obj):\n",
    "    ''' Create a formatted string of the Python JSON object '''\n",
    "    text = json.dumps(obj, sort_keys=True, indent=4)\n",
    "    print(text)\n",
    "    \n",
    "def get_datetime_string():\n",
    "    ''' Get strings representing today's date and time '''\n",
    "    time_now = str(datetime.datetime.now())\n",
    "    date_now = time_now.split(' ')[0] \n",
    "    return time_now, date_now\n",
    "\n",
    "def logfile_exists(log_filename):\n",
    "    ''' Check if a traffic log file exists for the particular repo '''\n",
    "    list_of_logs = os.listdir('logs/')\n",
    "    if len(set(list_of_logs).intersection(set([log_filename])))!=0:\n",
    "        return True\n",
    "    else:\n",
    "        return False\n",
    "\n",
    "def date_checked(log_dataframe, date_now):\n",
    "    ''' Check if today's data has already been fetched '''\n",
    "    \n",
    "    if len(log_dataframe) == 0:\n",
    "        return False\n",
    "    \n",
    "    most_recent_date = log_dataframe.sort_values('date_when_checked', ascending=False).iloc[0].date_when_checked\n",
    "    \n",
    "    if date_now == most_recent_date:\n",
    "        return True\n",
    "    else:\n",
    "        return False\n",
    "\n",
    "def check_github_traffic_api(endpoints, collect_data={}):\n",
    "    ''' Check Github's API '''\n",
    "    for endpoint in endpoints_to_check:        \n",
    "        response = requests.get(\n",
    "            f\"https://api.github.com/repos/{owner_name}/{repo_name}/traffic/{endpoint}\",\n",
    "            headers= headers)\n",
    "        print(f'Checked {endpoint}: status code {response.status_code}')\n",
    "        collect_data[endpoint] = response.json()\n",
    "        time.sleep(1)          \n",
    "    return collect_data\n"
   ]
  },
  {
   "cell_type": "code",
   "execution_count": 7,
   "metadata": {},
   "outputs": [],
   "source": [
    "# Parameters\n",
    "path_to_token = \"../_admin/private/token.txt\"\n",
    "owner_name = 'beingkk'\n",
    "repo_name = 'github_monitor'\n",
    "log_folder = 'logs/'\n",
    "endpoints_to_check = ['popular/paths', 'popular/referrers', 'views', 'clones']"
   ]
  },
  {
   "cell_type": "code",
   "execution_count": 8,
   "metadata": {},
   "outputs": [],
   "source": [
    "# Load parameters from a config file\n",
    "with open('configs_test.yaml', 'r') as f:    \n",
    "    config_params = yaml.load(f, Loader=yaml.FullLoader)\n",
    "\n",
    "path_to_token = config_params['path_to_token']\n",
    "owner_name = config_params['owner_name']\n",
    "repo_name = config_params['repo_name']\n",
    "log_folder = config_params['log_folder']\n",
    "endpoints_to_check = config_params['endpoints_to_check']"
   ]
  },
  {
   "cell_type": "code",
   "execution_count": 9,
   "metadata": {},
   "outputs": [],
   "source": [
    "# Request header, needed for authorisation\n",
    "headers = {'Authorization': 'token %s' % open(path_to_token, \"r\").read()}\n",
    "\n",
    "# Get today's date and time\n",
    "time_now, date_now = get_datetime_string()\n",
    "\n",
    "# Filename of the repo logs\n",
    "log_filename = f'traffic_log_{repo_name}.csv'"
   ]
  },
  {
   "cell_type": "code",
   "execution_count": 11,
   "metadata": {},
   "outputs": [
    {
     "name": "stdout",
     "output_type": "stream",
     "text": [
      "Log file didn't exist; created a new table.\n",
      "Checked popular/paths: status code 200\n",
      "Checked popular/referrers: status code 200\n",
      "Checked views: status code 200\n",
      "Checked clones: status code 200\n",
      "Collected and appended traffic data for 2020-12-11 in traffic_log_github_monitor.csv\n"
     ]
    }
   ],
   "source": [
    "# Check if a traffic log file of the repo exists \n",
    "\n",
    "if logfile_exists(log_filename):\n",
    "    # Read in the log file\n",
    "    log_dataframe = pandas.read_csv(f'{log_folder}{log_filename}')   \n",
    "    print(f\"Read {log_filename}.\")      \n",
    "    # Save a backup, just in case\n",
    "    log_dataframe.to_csv(f'{log_folder}{log_filename[:-4]}_BACKUP.csv', index=False)    \n",
    "else:\n",
    "    # Create a new dataframe, with columns representing the fields to check\n",
    "    log_dataframe = pandas.DataFrame(data={\n",
    "        'date_when_checked':[],\n",
    "        'time_when_checked':[],\n",
    "        'popular/paths':[],\n",
    "        'popular/referrers':[],\n",
    "        'views':[],\n",
    "        'clones':[]\n",
    "    })\n",
    "    print(\"Log file didn't exist; created a new table.\")\n",
    "        \n",
    "# Check if today's data has been already registered        \n",
    "if date_checked(log_dataframe, date_now):\n",
    "    print(\"Abort! We already have traffic data from today\")\n",
    "else:          \n",
    "    collect_data = {}\n",
    "    collect_data['date_when_checked'] = date_now\n",
    "    collect_data['time_when_checked'] = time_now\n",
    "    collect_data = check_github_traffic_api(endpoints_to_check, collect_data)\n",
    "    # Turn the responses to strings    \n",
    "    collect_data_str = {}\n",
    "    for key in list(collect_data.keys()):\n",
    "        collect_data_str[key] = str(collect_data[key])\n",
    "    # Add the responses to the log dataframe\n",
    "    log_dataframe = log_dataframe.append(collect_data_str, ignore_index=True)   \n",
    "    # Overwrite the log file\n",
    "    log_dataframe.to_csv(f'{log_folder}{log_filename}', index=False)\n",
    "          \n",
    "    print(f\"Collected and appended traffic data for {date_now} in {log_filename}\")\n",
    "          "
   ]
  },
  {
   "cell_type": "code",
   "execution_count": null,
   "metadata": {},
   "outputs": [],
   "source": []
  }
 ],
 "metadata": {
  "kernelspec": {
   "display_name": "Python 3",
   "language": "python",
   "name": "python3"
  },
  "language_info": {
   "codemirror_mode": {
    "name": "ipython",
    "version": 3
   },
   "file_extension": ".py",
   "mimetype": "text/x-python",
   "name": "python",
   "nbconvert_exporter": "python",
   "pygments_lexer": "ipython3",
   "version": "3.9.0"
  }
 },
 "nbformat": 4,
 "nbformat_minor": 4
}
